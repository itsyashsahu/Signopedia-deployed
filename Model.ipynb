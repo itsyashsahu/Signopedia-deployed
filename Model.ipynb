{
 "cells": [
  {
   "cell_type": "code",
   "execution_count": 1,
   "metadata": {},
   "outputs": [],
   "source": [
    "import numpy as np\n",
    "import pandas as pd\n",
    "import matplotlib.pyplot as plt\n",
    "from sklearn.model_selection import train_test_split\n",
    "import tensorflow as tf\n",
    "from tensorflow import keras\n",
    "import os\n",
    "\n",
    "\n",
    "def load_images_with_labels(train_image_path:str,train_label_path:str,test_images_path:str):\n",
    "    \n",
    "    train_images=np.load(train_image_path)\n",
    "    train_labels=np.load(train_label_path)\n",
    "    test_images=np.load(test_images_path)\n",
    "    \n",
    "    return train_images, train_labels, test_images\n",
    "\n",
    "\n",
    "def split_train(train_images_full,train_labels,validation_size:int=0.2,random_state=42):\n",
    "    \n",
    "    return train_test_split(train_images_full,train_labels,test_size=validation_size,random_state=random_state)\n",
    "\n",
    "TRAIN_IMAGE_PATH=os.path.join(os.curdir,\"processed data\",\"train_images.npy\")\n",
    "TRAIN_LABELS_PATH=os.path.join(os.curdir,\"processed data\",\"train_labels.npy\")\n",
    "TEST_IMAGE_PATH=os.path.join(os.curdir,\"processed data\",\"test_images.npy\")"
   ]
  },
  {
   "cell_type": "code",
   "execution_count": 2,
   "metadata": {},
   "outputs": [
    {
     "name": "stdout",
     "output_type": "stream",
     "text": [
      "Done!!!\n"
     ]
    }
   ],
   "source": [
    "#Loading and splitting data\n",
    "\n",
    "X_train_full,Y_full,X_test=load_images_with_labels(TRAIN_IMAGE_PATH,TRAIN_LABELS_PATH,TEST_IMAGE_PATH)\n",
    "X_train,X_valid,y_train,y_valid=split_train(X_train_full,Y_full,validation_size=0.2,random_state=42)\n",
    "\n",
    "print(\"Done!!!\")"
   ]
  },
  {
   "cell_type": "code",
   "execution_count": 3,
   "metadata": {},
   "outputs": [
    {
     "name": "stdout",
     "output_type": "stream",
     "text": [
      "Train set shape------->(31367, 30, 30, 3)\n",
      "Train labels shape------->(31367,)\n",
      "Validation set shape------->(7842, 30, 30, 3)\n",
      "Validation labels shape------->(7842,)\n",
      "Test set shape------->(12630, 30, 30, 3)\n"
     ]
    }
   ],
   "source": [
    "#Printing Shapes\n",
    "\n",
    "print(f\"Train set shape------->{X_train.shape}\")\n",
    "print(f\"Train labels shape------->{y_train.shape}\")\n",
    "print(f\"Validation set shape------->{X_valid.shape}\")\n",
    "print(f\"Validation labels shape------->{y_valid.shape}\")\n",
    "print(f\"Test set shape------->{X_test.shape}\")"
   ]
  },
  {
   "cell_type": "code",
   "execution_count": 10,
   "metadata": {},
   "outputs": [
    {
     "data": {
      "text/plain": [
       "'\\nThe architecture of our model is:\\n\\n2 Conv2D layer (filter=32, kernel_size=(5,5), activation=”relu”)\\n\\nMaxPool2D layer ( pool_size=(2,2))\\n\\nDropout layer (rate=0.25)\\n\\n2 Conv2D layer (filter=64, kernel_size=(3,3), activation=”relu”)\\n\\nMaxPool2D layer ( pool_size=(2,2))\\n\\nDropout layer (rate=0.25)\\n\\nFlatten layer to squeeze the layers into 1 dimension\\n\\nDense Fully connected layer (256 nodes, activation=”relu”)\\n\\nDropout layer (rate=0.5)\\n\\nDense layer (43 nodes, activation=”softmax”)\\n\\n\\nWe will make our model using both Sequential and the function api of tensorflow\\n\\n'"
      ]
     },
     "execution_count": 10,
     "metadata": {},
     "output_type": "execute_result"
    }
   ],
   "source": [
    "#Model Structure\n",
    "\n",
    "\"\"\"\n",
    "The architecture of our model is:\n",
    "\n",
    "2 Conv2D layer (filter=32, kernel_size=(5,5), activation=”relu”)\n",
    "\n",
    "MaxPool2D layer ( pool_size=(2,2))\n",
    "\n",
    "Dropout layer (rate=0.25)\n",
    "\n",
    "2 Conv2D layer (filter=64, kernel_size=(3,3), activation=”relu”)\n",
    "\n",
    "MaxPool2D layer ( pool_size=(2,2))\n",
    "\n",
    "Dropout layer (rate=0.25)\n",
    "\n",
    "Flatten layer to squeeze the layers into 1 dimension\n",
    "\n",
    "Dense Fully connected layer (256 nodes, activation=”relu”)\n",
    "\n",
    "Dropout layer (rate=0.5)\n",
    "\n",
    "Dense layer (43 nodes, activation=”softmax”)\n",
    "\n",
    "\n",
    "We will make our model using both Sequential and the Functional api of tensorflow\n",
    "\n",
    "\"\"\""
   ]
  },
  {
   "cell_type": "code",
   "execution_count": 6,
   "metadata": {},
   "outputs": [],
   "source": [
    "#Using the sequential api of tensorflow\n",
    "\n",
    "def make_model_sequential()->keras.models.Model:\n",
    "    \n",
    "    model=keras.models.Sequential([\n",
    "        keras.layers.Conv2D(filters=32,kernel_size=(5,5),activation=\"relu\",input_shape=[30,30,3]),\n",
    "        keras.layers.Conv2D(filters=32,kernel_size=(5,5),activation=\"relu\"),\n",
    "        keras.layers.MaxPool2D(pool_size=(2,2)),\n",
    "        keras.layers.Dropout(rate=0.25),\n",
    "        keras.layers.Conv2D(filters=64,kernel_size=(3,3),activation=\"relu\"),\n",
    "        keras.layers.Conv2D(filters=64,kernel_size=(3,3),activation=\"relu\"),\n",
    "        keras.layers.MaxPool2D(pool_size=(2,2)),\n",
    "        keras.layers.Dropout(rate=0.25),\n",
    "        keras.layers.Flatten(),\n",
    "        keras.layers.Dense(units=256,activation=\"relu\"),\n",
    "        keras.layers.Dropout(rate=0.5),\n",
    "        keras.layers.Dense(units=43,activation=\"softmax\")\n",
    "    ])\n",
    "    \n",
    "    return model"
   ]
  },
  {
   "cell_type": "code",
   "execution_count": 7,
   "metadata": {},
   "outputs": [
    {
     "name": "stdout",
     "output_type": "stream",
     "text": [
      "Model: \"sequential_1\"\n",
      "_________________________________________________________________\n",
      "Layer (type)                 Output Shape              Param #   \n",
      "=================================================================\n",
      "conv2d_4 (Conv2D)            (None, 26, 26, 32)        2432      \n",
      "_________________________________________________________________\n",
      "conv2d_5 (Conv2D)            (None, 22, 22, 32)        25632     \n",
      "_________________________________________________________________\n",
      "max_pooling2d_2 (MaxPooling2 (None, 11, 11, 32)        0         \n",
      "_________________________________________________________________\n",
      "dropout_3 (Dropout)          (None, 11, 11, 32)        0         \n",
      "_________________________________________________________________\n",
      "conv2d_6 (Conv2D)            (None, 9, 9, 64)          18496     \n",
      "_________________________________________________________________\n",
      "conv2d_7 (Conv2D)            (None, 7, 7, 64)          36928     \n",
      "_________________________________________________________________\n",
      "max_pooling2d_3 (MaxPooling2 (None, 3, 3, 64)          0         \n",
      "_________________________________________________________________\n",
      "dropout_4 (Dropout)          (None, 3, 3, 64)          0         \n",
      "_________________________________________________________________\n",
      "flatten_1 (Flatten)          (None, 576)               0         \n",
      "_________________________________________________________________\n",
      "dense_2 (Dense)              (None, 256)               147712    \n",
      "_________________________________________________________________\n",
      "dropout_5 (Dropout)          (None, 256)               0         \n",
      "_________________________________________________________________\n",
      "dense_3 (Dense)              (None, 43)                11051     \n",
      "=================================================================\n",
      "Total params: 242,251\n",
      "Trainable params: 242,251\n",
      "Non-trainable params: 0\n",
      "_________________________________________________________________\n"
     ]
    }
   ],
   "source": [
    "sequential_model=make_model_sequential()\n",
    "sequential_model.summary()"
   ]
  },
  {
   "cell_type": "code",
   "execution_count": 11,
   "metadata": {},
   "outputs": [],
   "source": [
    "#Using the sequential api of tensorflow\n",
    "\n",
    "def make_model_functional()->keras.models.Model:\n",
    "    \n",
    "    inputs=keras.layers.Input(shape=[30,30,3])\n",
    "    x=keras.layers.Conv2D(filters=32,kernel_size=(5,5),activation=\"relu\",kernel_initializer=\"he_normal\")(inputs)\n",
    "    x=keras.layers.Conv2D(filters=32,kernel_size=(5,5),activation=\"relu\",kernel_initializer=\"he_normal\")(x)\n",
    "    x=keras.layers.MaxPool2D(pool_size=(2,2))(x)\n",
    "    x=keras.layers.Dropout(rate=0.25)(x)\n",
    "    x=keras.layers.Conv2D(filters=64,kernel_size=(3,3),activation=\"relu\",kernel_initializer=\"he_normal\")(x)\n",
    "    x=keras.layers.Conv2D(filters=64,kernel_size=(3,3),activation=\"relu\",kernel_initializer=\"he_normal\")(x)\n",
    "    x=keras.layers.MaxPool2D(pool_size=(2,2))(x)\n",
    "    x=keras.layers.Dropout(rate=0.25)(x)\n",
    "    x=keras.layers.Flatten()(x)\n",
    "    x=keras.layers.Dense(units=256,activation=\"relu\",kernel_initializer=\"he_normal\")(x)\n",
    "    x=keras.layers.Dropout(rate=0.5)(x)\n",
    "    outputs=keras.layers.Dense(units=43,activation=\"softmax\")(x)\n",
    "    \n",
    "    model=keras.models.Model(inputs=[inputs],outputs=[outputs])\n",
    "    \n",
    "    return model"
   ]
  },
  {
   "cell_type": "code",
   "execution_count": 12,
   "metadata": {},
   "outputs": [
    {
     "name": "stdout",
     "output_type": "stream",
     "text": [
      "Model: \"functional_1\"\n",
      "_________________________________________________________________\n",
      "Layer (type)                 Output Shape              Param #   \n",
      "=================================================================\n",
      "input_2 (InputLayer)         [(None, 30, 30, 3)]       0         \n",
      "_________________________________________________________________\n",
      "conv2d_12 (Conv2D)           (None, 26, 26, 32)        2432      \n",
      "_________________________________________________________________\n",
      "conv2d_13 (Conv2D)           (None, 22, 22, 32)        25632     \n",
      "_________________________________________________________________\n",
      "max_pooling2d_6 (MaxPooling2 (None, 11, 11, 32)        0         \n",
      "_________________________________________________________________\n",
      "dropout_8 (Dropout)          (None, 11, 11, 32)        0         \n",
      "_________________________________________________________________\n",
      "conv2d_14 (Conv2D)           (None, 9, 9, 64)          18496     \n",
      "_________________________________________________________________\n",
      "conv2d_15 (Conv2D)           (None, 7, 7, 64)          36928     \n",
      "_________________________________________________________________\n",
      "max_pooling2d_7 (MaxPooling2 (None, 3, 3, 64)          0         \n",
      "_________________________________________________________________\n",
      "dropout_9 (Dropout)          (None, 3, 3, 64)          0         \n",
      "_________________________________________________________________\n",
      "flatten_3 (Flatten)          (None, 576)               0         \n",
      "_________________________________________________________________\n",
      "dense_4 (Dense)              (None, 256)               147712    \n",
      "_________________________________________________________________\n",
      "dropout_10 (Dropout)         (None, 256)               0         \n",
      "_________________________________________________________________\n",
      "dense_5 (Dense)              (None, 43)                11051     \n",
      "=================================================================\n",
      "Total params: 242,251\n",
      "Trainable params: 242,251\n",
      "Non-trainable params: 0\n",
      "_________________________________________________________________\n"
     ]
    }
   ],
   "source": [
    "functional_model=make_model_functional()\n",
    "functional_model.summary()"
   ]
  },
  {
   "cell_type": "code",
   "execution_count": 69,
   "metadata": {},
   "outputs": [],
   "source": [
    "#We will use the sequential_model for predictions\n",
    "\n",
    "sequential_model.compile(loss='sparse_categorical_crossentropy',optimizer='adam',metrics=['accuracy'])"
   ]
  },
  {
   "cell_type": "code",
   "execution_count": 70,
   "metadata": {},
   "outputs": [
    {
     "name": "stdout",
     "output_type": "stream",
     "text": [
      "Epoch 1/15\n",
      "491/491 [==============================] - 55s 111ms/step - loss: 1.4814 - accuracy: 0.6035 - val_loss: 0.4894 - val_accuracy: 0.8822\n",
      "Epoch 2/15\n",
      "491/491 [==============================] - 57s 115ms/step - loss: 0.6193 - accuracy: 0.8181 - val_loss: 0.2550 - val_accuracy: 0.9302\n",
      "Epoch 3/15\n",
      "491/491 [==============================] - 57s 116ms/step - loss: 0.4182 - accuracy: 0.8746 - val_loss: 0.1293 - val_accuracy: 0.9647\n",
      "Epoch 4/15\n",
      "491/491 [==============================] - 53s 107ms/step - loss: 0.3357 - accuracy: 0.9002 - val_loss: 0.1336 - val_accuracy: 0.9642\n",
      "Epoch 5/15\n",
      "491/491 [==============================] - 52s 106ms/step - loss: 0.3044 - accuracy: 0.9096 - val_loss: 0.1252 - val_accuracy: 0.9694\n",
      "Epoch 6/15\n",
      "491/491 [==============================] - 56s 115ms/step - loss: 0.2580 - accuracy: 0.9237 - val_loss: 0.1088 - val_accuracy: 0.9693\n",
      "Epoch 7/15\n",
      "491/491 [==============================] - 59s 120ms/step - loss: 0.2310 - accuracy: 0.9304 - val_loss: 0.0778 - val_accuracy: 0.9786\n",
      "Epoch 8/15\n",
      "491/491 [==============================] - 60s 121ms/step - loss: 0.2116 - accuracy: 0.9381 - val_loss: 0.0785 - val_accuracy: 0.9762\n",
      "Epoch 9/15\n",
      "491/491 [==============================] - 52s 105ms/step - loss: 0.1935 - accuracy: 0.9426 - val_loss: 0.0807 - val_accuracy: 0.9772\n",
      "Epoch 10/15\n",
      "491/491 [==============================] - 55s 112ms/step - loss: 0.2029 - accuracy: 0.9415 - val_loss: 0.0654 - val_accuracy: 0.9820\n",
      "Epoch 11/15\n",
      "491/491 [==============================] - 57s 117ms/step - loss: 0.1838 - accuracy: 0.9450 - val_loss: 0.1494 - val_accuracy: 0.9543\n",
      "Epoch 12/15\n",
      "491/491 [==============================] - 57s 117ms/step - loss: 0.1731 - accuracy: 0.9499 - val_loss: 0.0587 - val_accuracy: 0.9841\n",
      "Epoch 13/15\n",
      "491/491 [==============================] - 57s 116ms/step - loss: 0.1808 - accuracy: 0.9479 - val_loss: 0.0906 - val_accuracy: 0.9744\n",
      "Epoch 14/15\n",
      "491/491 [==============================] - 58s 118ms/step - loss: 0.1635 - accuracy: 0.9524 - val_loss: 0.0581 - val_accuracy: 0.9850\n",
      "Epoch 15/15\n",
      "491/491 [==============================] - 57s 116ms/step - loss: 0.1690 - accuracy: 0.9499 - val_loss: 0.0594 - val_accuracy: 0.9836\n"
     ]
    }
   ],
   "source": [
    "keras.backend.clear_session()\n",
    "history=sequential_model.fit(X_train,y_train,batch_size=64,epochs=15,validation_data=(X_valid,y_valid))"
   ]
  },
  {
   "cell_type": "code",
   "execution_count": null,
   "metadata": {},
   "outputs": [],
   "source": [
    "history=pd.DataFrame(history.history)"
   ]
  },
  {
   "cell_type": "code",
   "execution_count": 76,
   "metadata": {},
   "outputs": [
    {
     "data": {
      "image/png": "[encoded data removed]",
      "text/plain": [
       "<Figure size 432x288 with 1 Axes>"
      ]
     },
     "metadata": {
      "needs_background": "light"
     },
     "output_type": "display_data"
    },
    {
     "data": {
      "image/png": "[encoded data removed]",
      "text/plain": [
       "<Figure size 432x288 with 1 Axes>"
      ]
     },
     "metadata": {
      "needs_background": "light"
     },
     "output_type": "display_data"
    }
   ],
   "source": [
    "#Plotting the Graphs for accuracy and losses\n",
    "\n",
    "plt.figure(0)\n",
    "plt.plot(history[\"loss\"],label=\"Training loss\")\n",
    "plt.plot(history[\"val_loss\"],label=\"Validation loss\")\n",
    "plt.title(\"Loss\")\n",
    "plt.xlabel(\"Epochs\")\n",
    "plt.ylabel(\"loss\")\n",
    "plt.legend()\n",
    "\n",
    "plt.figure(1)\n",
    "plt.plot(history[\"accuracy\"],label=\"Training accuracy\")\n",
    "plt.plot(history[\"val_accuracy\"],label=\"Validation accuracy\")\n",
    "plt.title(\"Accuracy\")\n",
    "plt.xlabel(\"Epochs\")\n",
    "plt.ylabel(\"accuracy\")\n",
    "plt.legend()\n",
    "\n",
    "plt.show()"
   ]
  },
  {
   "cell_type": "code",
   "execution_count": 77,
   "metadata": {},
   "outputs": [],
   "source": [
    "sequential_model.save_weights(\"Initial_Model_weights.h5\")"
   ]
  }
 ],
 "metadata": {
  "interpreter": {
   "hash": "2aa004c0c9fad55c06fd0d614e3c9f4f7dee50ca3352dfb17d34d78d8020babd"
  },
  "kernelspec": {
   "display_name": "Python 3.8.12 ('base')",
   "language": "python",
   "name": "python3"
  },
  "language_info": {
   "codemirror_mode": {
    "name": "ipython",
    "version": 3
   },
   "file_extension": ".py",
   "mimetype": "text/x-python",
   "name": "python",
   "nbconvert_exporter": "python",
   "pygments_lexer": "ipython3",
   "version": "3.8.12"
  },
  "orig_nbformat": 4
 },
 "nbformat": 4,
 "nbformat_minor": 2
}
